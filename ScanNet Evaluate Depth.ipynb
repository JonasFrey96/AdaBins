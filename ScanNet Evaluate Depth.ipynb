{
 "cells": [
  {
   "cell_type": "code",
   "execution_count": 11,
   "id": "configured-asian",
   "metadata": {},
   "outputs": [
    {
     "data": {
      "text/plain": [
       "(dtype('uint8'), dtype('uint8'))"
      ]
     },
     "execution_count": 11,
     "metadata": {},
     "output_type": "execute_result"
    }
   ],
   "source": [
    "import imageio \n",
    "from PIL import Image\n",
    "import numpy as np\n",
    "p = \"/home/jonfrey/datasets/scannet/scans/scene0000_00/depth/0.png\"\n",
    "img = np.array( Image.open( p ) )\n",
    "\n",
    "img2 = imageio.imread(p)\n",
    "\n",
    "(img[img!=0]).min()\n",
    "img.dtype, img2.dtype"
   ]
  }
 ],
 "metadata": {
  "kernelspec": {
   "display_name": "track4",
   "language": "python",
   "name": "track4"
  },
  "language_info": {
   "codemirror_mode": {
    "name": "ipython",
    "version": 3
   },
   "file_extension": ".py",
   "mimetype": "text/x-python",
   "name": "python",
   "nbconvert_exporter": "python",
   "pygments_lexer": "ipython3",
   "version": "3.7.4"
  }
 },
 "nbformat": 4,
 "nbformat_minor": 5
}
